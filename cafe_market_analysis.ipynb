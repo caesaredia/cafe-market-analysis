{
 "cells": [
  {
   "cell_type": "markdown",
   "metadata": {},
   "source": [
    "# Market Analysis and Strategic Insights for Launching a Café in Los Angeles"
   ]
  },
  {
   "cell_type": "markdown",
   "metadata": {},
   "source": [
    "---\n",
    "# Table of Contents <a id=\"mulai\"></a>\n",
    "\n",
    "[Introduction](#mulai)\n",
    "\n",
    "[Analysis Stages](#tahapan)\n",
    "1. [Data Preparation](#persiapan)\n",
    "2. [Data Analysis](#analisis)\n",
    "    * [Proportional Distribution by Business Type](#proporsi)\n",
    "    * [Franchise vs Non-Franchise Breakdown](#basis)\n",
    "    * [Business Categories Commonly Operated as Franchises](#jenis)\n",
    "    * [Seat Count Distribution in Franchise-Based Businesses](#waralaba)\n",
    "    * [Average Number of Seats per Business Category](#rataratakursi)\n",
    "    * [Top Ten Streets by Business Density](#top10street)\n",
    "    * [Count of Streets with Only One Business Establishment](#jumlahjalan)\n",
    "    * [Seat Count Distribution on High-Density Streets](#distribusi)\n",
    "3. [Conclusion](#kesimpulan)\n",
    "4. [Recommendation](#rekomendasi)"
   ]
  },
  {
   "cell_type": "markdown",
   "metadata": {},
   "source": [
    "---\n",
    "# Introduction\n",
    "<a id=\"mulai\"></a>"
   ]
  },
  {
   "cell_type": "markdown",
   "metadata": {},
   "source": [
    "In an era where technological innovation continues to advance rapidly, the food and beverage industry is no exception to this wave of transformation. Driven by a passion for delivering a unique customer experience, I have made the decision to open a small café in Los Angeles. This establishment not only offers delectable cuisine but also introduces an unconventional experience by employing robots as servers.\n",
    "\n",
    "Naturally, this is a promising venture; however, realizing it requires a substantial amount of capital. As such, my partners and I have resolved to attract potential investors to back this project. That said, as an analyst, I am keenly aware of the importance of understanding current market dynamics and evaluating whether the café can maintain its appeal—particularly once the novelty of robotic servers begins to fade.\n",
    "\n",
    "To build a compelling and well-founded business plan that resonates with investors, we conducted in-depth market research. We leveraged open-source data related to dining establishments across Los Angeles. Through a meticulous analysis, we aim to present a clear picture of the business potential and demonstrate how we intend to capitalize on prevailing market trends to ensure long-term success.\n",
    "\n",
    "Let us begin by examining the data we have gathered.\n",
    "\n",
    "[Back to Table of Contents](#back)"
   ]
  },
  {
   "cell_type": "markdown",
   "metadata": {},
   "source": [
    "---\n",
    "# Analysis Stages\n",
    "<a id=\"tahapan\"></a>"
   ]
  },
  {
   "cell_type": "markdown",
   "metadata": {},
   "source": [
    "1. **Data Preparation**\n",
    "- Download data related to various types of dining establishments in Los Angeles.\n",
    "- Inspect data types for each column and ensure there are no missing or duplicate values.\n",
    "- Perform preprocessing if necessary, such as data cleaning or column separation.\n",
    "\n",
    "2. **Data Analysis**\n",
    "- Proportional Distribution by Type of Establishment\n",
    "- Franchise vs Non-Franchise Business Proportions\n",
    "- Business Categories Commonly Operated as Franchises\n",
    "- Seat Count Distribution in Franchise-Based Businesses\n",
    "- Average Number of Seats per Business Type\n",
    "- Top Ten Street Names by Number of Establishments\n",
    "- Count of Streets Hosting a Single Business Establishment\n",
    "- Seat Count Distribution on Streets with High Business Density\n",
    "\n",
    "3. **Conclusion**\n",
    "\n",
    "4. **Recommendations**\n",
    "\n",
    "[Back to Table of Contents](#back)"
   ]
  },
  {
   "cell_type": "markdown",
   "metadata": {},
   "source": [
    "---\n",
    "## Data Preparation\n",
    "<a id=\"persiapan\"></a>"
   ]
  },
  {
   "cell_type": "code",
   "execution_count": 4,
   "metadata": {},
   "outputs": [],
   "source": [
    "import pandas as pd\n",
    "import matplotlib.pyplot as plt\n",
    "import seaborn as sns"
   ]
  },
  {
   "cell_type": "code",
   "execution_count": 5,
   "metadata": {},
   "outputs": [
    {
     "data": {
      "text/html": [
       "<div>\n",
       "<style scoped>\n",
       "    .dataframe tbody tr th:only-of-type {\n",
       "        vertical-align: middle;\n",
       "    }\n",
       "\n",
       "    .dataframe tbody tr th {\n",
       "        vertical-align: top;\n",
       "    }\n",
       "\n",
       "    .dataframe thead th {\n",
       "        text-align: right;\n",
       "    }\n",
       "</style>\n",
       "<table border=\"1\" class=\"dataframe\">\n",
       "  <thead>\n",
       "    <tr style=\"text-align: right;\">\n",
       "      <th></th>\n",
       "      <th>id</th>\n",
       "      <th>object_name</th>\n",
       "      <th>address</th>\n",
       "      <th>chain</th>\n",
       "      <th>object_type</th>\n",
       "      <th>number</th>\n",
       "    </tr>\n",
       "  </thead>\n",
       "  <tbody>\n",
       "    <tr>\n",
       "      <th>0</th>\n",
       "      <td>11786</td>\n",
       "      <td>HABITAT COFFEE SHOP</td>\n",
       "      <td>3708 N EAGLE ROCK BLVD</td>\n",
       "      <td>False</td>\n",
       "      <td>Cafe</td>\n",
       "      <td>26</td>\n",
       "    </tr>\n",
       "    <tr>\n",
       "      <th>1</th>\n",
       "      <td>11787</td>\n",
       "      <td>REILLY'S</td>\n",
       "      <td>100 WORLD WAY 120</td>\n",
       "      <td>False</td>\n",
       "      <td>Restaurant</td>\n",
       "      <td>9</td>\n",
       "    </tr>\n",
       "    <tr>\n",
       "      <th>2</th>\n",
       "      <td>11788</td>\n",
       "      <td>STREET CHURROS</td>\n",
       "      <td>6801 HOLLYWOOD BLVD 253</td>\n",
       "      <td>False</td>\n",
       "      <td>Fast Food</td>\n",
       "      <td>20</td>\n",
       "    </tr>\n",
       "    <tr>\n",
       "      <th>3</th>\n",
       "      <td>11789</td>\n",
       "      <td>TRINITI ECHO PARK</td>\n",
       "      <td>1814 W SUNSET BLVD</td>\n",
       "      <td>False</td>\n",
       "      <td>Restaurant</td>\n",
       "      <td>22</td>\n",
       "    </tr>\n",
       "    <tr>\n",
       "      <th>4</th>\n",
       "      <td>11790</td>\n",
       "      <td>POLLEN</td>\n",
       "      <td>2100 ECHO PARK AVE</td>\n",
       "      <td>False</td>\n",
       "      <td>Restaurant</td>\n",
       "      <td>20</td>\n",
       "    </tr>\n",
       "    <tr>\n",
       "      <th>5</th>\n",
       "      <td>11791</td>\n",
       "      <td>THE SPOT GRILL</td>\n",
       "      <td>10004 NATIONAL BLVD</td>\n",
       "      <td>False</td>\n",
       "      <td>Restaurant</td>\n",
       "      <td>14</td>\n",
       "    </tr>\n",
       "    <tr>\n",
       "      <th>6</th>\n",
       "      <td>11792</td>\n",
       "      <td>CPK</td>\n",
       "      <td>100 WORLD WAY 126</td>\n",
       "      <td>False</td>\n",
       "      <td>Restaurant</td>\n",
       "      <td>100</td>\n",
       "    </tr>\n",
       "    <tr>\n",
       "      <th>7</th>\n",
       "      <td>11793</td>\n",
       "      <td>PHO LALA</td>\n",
       "      <td>3500 W 6TH ST STE 226</td>\n",
       "      <td>False</td>\n",
       "      <td>Restaurant</td>\n",
       "      <td>7</td>\n",
       "    </tr>\n",
       "    <tr>\n",
       "      <th>8</th>\n",
       "      <td>11794</td>\n",
       "      <td>ABC DONUTS</td>\n",
       "      <td>3027 N SAN FERNANDO RD UNIT 103</td>\n",
       "      <td>True</td>\n",
       "      <td>Fast Food</td>\n",
       "      <td>1</td>\n",
       "    </tr>\n",
       "    <tr>\n",
       "      <th>9</th>\n",
       "      <td>11795</td>\n",
       "      <td>UPSTAIRS</td>\n",
       "      <td>3707 N CAHUENGA BLVD</td>\n",
       "      <td>False</td>\n",
       "      <td>Restaurant</td>\n",
       "      <td>35</td>\n",
       "    </tr>\n",
       "    <tr>\n",
       "      <th>10</th>\n",
       "      <td>11796</td>\n",
       "      <td>EL POLLO LOCO</td>\n",
       "      <td>5319 W SUNSET BLVD</td>\n",
       "      <td>True</td>\n",
       "      <td>Restaurant</td>\n",
       "      <td>38</td>\n",
       "    </tr>\n",
       "    <tr>\n",
       "      <th>11</th>\n",
       "      <td>11797</td>\n",
       "      <td>POONG NYUN BAKERY</td>\n",
       "      <td>928 S WESTERN AVE STE 109</td>\n",
       "      <td>True</td>\n",
       "      <td>Bakery</td>\n",
       "      <td>17</td>\n",
       "    </tr>\n",
       "    <tr>\n",
       "      <th>12</th>\n",
       "      <td>11798</td>\n",
       "      <td>EMC RESTAURANT GROUP LLC</td>\n",
       "      <td>3500 W 6TH ST STE 101</td>\n",
       "      <td>True</td>\n",
       "      <td>Restaurant</td>\n",
       "      <td>133</td>\n",
       "    </tr>\n",
       "    <tr>\n",
       "      <th>13</th>\n",
       "      <td>11799</td>\n",
       "      <td>POPULAR DONUTS</td>\n",
       "      <td>3614 W SLAUSON AVE</td>\n",
       "      <td>False</td>\n",
       "      <td>Fast Food</td>\n",
       "      <td>18</td>\n",
       "    </tr>\n",
       "    <tr>\n",
       "      <th>14</th>\n",
       "      <td>11800</td>\n",
       "      <td>CUSCATLECA BAKERY</td>\n",
       "      <td>2501 W SUNSET BLVD #A</td>\n",
       "      <td>True</td>\n",
       "      <td>Bakery</td>\n",
       "      <td>26</td>\n",
       "    </tr>\n",
       "    <tr>\n",
       "      <th>15</th>\n",
       "      <td>11801</td>\n",
       "      <td>FOOD COURT TRAY WASHING AREA</td>\n",
       "      <td>928 S WESTERN AVE STE 300</td>\n",
       "      <td>True</td>\n",
       "      <td>Restaurant</td>\n",
       "      <td>21</td>\n",
       "    </tr>\n",
       "    <tr>\n",
       "      <th>16</th>\n",
       "      <td>11802</td>\n",
       "      <td>HMS BOUNTY</td>\n",
       "      <td>3357 WILSHIRE BLVD</td>\n",
       "      <td>False</td>\n",
       "      <td>Restaurant</td>\n",
       "      <td>147</td>\n",
       "    </tr>\n",
       "    <tr>\n",
       "      <th>17</th>\n",
       "      <td>11803</td>\n",
       "      <td>AN'S CHAN BANG</td>\n",
       "      <td>244 S OXFORD AVE 5</td>\n",
       "      <td>False</td>\n",
       "      <td>Restaurant</td>\n",
       "      <td>10</td>\n",
       "    </tr>\n",
       "    <tr>\n",
       "      <th>18</th>\n",
       "      <td>11804</td>\n",
       "      <td>MURAKAMI</td>\n",
       "      <td>7160 MELROSE AVE</td>\n",
       "      <td>False</td>\n",
       "      <td>Restaurant</td>\n",
       "      <td>139</td>\n",
       "    </tr>\n",
       "    <tr>\n",
       "      <th>19</th>\n",
       "      <td>11805</td>\n",
       "      <td>DELTA SKY CLUB T3</td>\n",
       "      <td>300 WORLD WAY</td>\n",
       "      <td>False</td>\n",
       "      <td>Restaurant</td>\n",
       "      <td>103</td>\n",
       "    </tr>\n",
       "  </tbody>\n",
       "</table>\n",
       "</div>"
      ],
      "text/plain": [
       "       id                   object_name                          address  \\\n",
       "0   11786           HABITAT COFFEE SHOP           3708 N EAGLE ROCK BLVD   \n",
       "1   11787                      REILLY'S                100 WORLD WAY 120   \n",
       "2   11788                STREET CHURROS          6801 HOLLYWOOD BLVD 253   \n",
       "3   11789             TRINITI ECHO PARK               1814 W SUNSET BLVD   \n",
       "4   11790                        POLLEN               2100 ECHO PARK AVE   \n",
       "5   11791                THE SPOT GRILL              10004 NATIONAL BLVD   \n",
       "6   11792                           CPK                100 WORLD WAY 126   \n",
       "7   11793                      PHO LALA            3500 W 6TH ST STE 226   \n",
       "8   11794                    ABC DONUTS  3027 N SAN FERNANDO RD UNIT 103   \n",
       "9   11795                      UPSTAIRS             3707 N CAHUENGA BLVD   \n",
       "10  11796                 EL POLLO LOCO               5319 W SUNSET BLVD   \n",
       "11  11797             POONG NYUN BAKERY        928 S WESTERN AVE STE 109   \n",
       "12  11798      EMC RESTAURANT GROUP LLC            3500 W 6TH ST STE 101   \n",
       "13  11799                POPULAR DONUTS               3614 W SLAUSON AVE   \n",
       "14  11800             CUSCATLECA BAKERY            2501 W SUNSET BLVD #A   \n",
       "15  11801  FOOD COURT TRAY WASHING AREA        928 S WESTERN AVE STE 300   \n",
       "16  11802                    HMS BOUNTY               3357 WILSHIRE BLVD   \n",
       "17  11803                AN'S CHAN BANG               244 S OXFORD AVE 5   \n",
       "18  11804                      MURAKAMI                 7160 MELROSE AVE   \n",
       "19  11805             DELTA SKY CLUB T3                    300 WORLD WAY   \n",
       "\n",
       "    chain object_type  number  \n",
       "0   False        Cafe      26  \n",
       "1   False  Restaurant       9  \n",
       "2   False   Fast Food      20  \n",
       "3   False  Restaurant      22  \n",
       "4   False  Restaurant      20  \n",
       "5   False  Restaurant      14  \n",
       "6   False  Restaurant     100  \n",
       "7   False  Restaurant       7  \n",
       "8    True   Fast Food       1  \n",
       "9   False  Restaurant      35  \n",
       "10   True  Restaurant      38  \n",
       "11   True      Bakery      17  \n",
       "12   True  Restaurant     133  \n",
       "13  False   Fast Food      18  \n",
       "14   True      Bakery      26  \n",
       "15   True  Restaurant      21  \n",
       "16  False  Restaurant     147  \n",
       "17  False  Restaurant      10  \n",
       "18  False  Restaurant     139  \n",
       "19  False  Restaurant     103  "
      ]
     },
     "execution_count": 5,
     "metadata": {},
     "output_type": "execute_result"
    }
   ],
   "source": [
    "data = pd.read_csv('data/cafe_market_data.csv')\n",
    "data.head(20)"
   ]
  },
  {
   "cell_type": "code",
   "execution_count": 6,
   "metadata": {},
   "outputs": [
    {
     "name": "stdout",
     "output_type": "stream",
     "text": [
      "<class 'pandas.core.frame.DataFrame'>\n",
      "RangeIndex: 9651 entries, 0 to 9650\n",
      "Data columns (total 6 columns):\n",
      " #   Column       Non-Null Count  Dtype \n",
      "---  ------       --------------  ----- \n",
      " 0   id           9651 non-null   int64 \n",
      " 1   object_name  9651 non-null   object\n",
      " 2   address      9651 non-null   object\n",
      " 3   chain        9648 non-null   object\n",
      " 4   object_type  9651 non-null   object\n",
      " 5   number       9651 non-null   int64 \n",
      "dtypes: int64(2), object(4)\n",
      "memory usage: 452.5+ KB\n"
     ]
    }
   ],
   "source": [
    "data.info()"
   ]
  },
  {
   "cell_type": "code",
   "execution_count": 7,
   "metadata": {},
   "outputs": [
    {
     "data": {
      "text/plain": [
       "id             0\n",
       "object_name    0\n",
       "address        0\n",
       "chain          3\n",
       "object_type    0\n",
       "number         0\n",
       "dtype: int64"
      ]
     },
     "execution_count": 7,
     "metadata": {},
     "output_type": "execute_result"
    }
   ],
   "source": [
    "# check missing values\n",
    "data.isnull().sum()"
   ]
  },
  {
   "cell_type": "code",
   "execution_count": 8,
   "metadata": {},
   "outputs": [],
   "source": [
    "# change data type 'chain' column into boolean\n",
    "data['chain'] = data['chain'].astype(bool)"
   ]
  },
  {
   "cell_type": "code",
   "execution_count": 9,
   "metadata": {},
   "outputs": [],
   "source": [
    "# clean and format address\n",
    "data['address'] = data['address'].str.replace('#', '')"
   ]
  },
  {
   "cell_type": "code",
   "execution_count": 10,
   "metadata": {},
   "outputs": [],
   "source": [
    "# delete duplicates\n",
    "data.drop_duplicates(inplace=True)"
   ]
  },
  {
   "cell_type": "code",
   "execution_count": 11,
   "metadata": {},
   "outputs": [
    {
     "name": "stdout",
     "output_type": "stream",
     "text": [
      "Number of duplicate rows: 0\n"
     ]
    }
   ],
   "source": [
    "# check duplicates\n",
    "duplicate_rows = data.duplicated().sum()\n",
    "print(\"Number of duplicate rows:\", duplicate_rows)"
   ]
  },
  {
   "cell_type": "code",
   "execution_count": 12,
   "metadata": {},
   "outputs": [],
   "source": [
    "# extract street names from the address column\n",
    "# inspect the results of the address parsing\n",
    "split_address = data['address'].str.split(',', n=1, expand=True)\n",
    "split_address.head()\n",
    "\n",
    "data[['street', 'address_detail']] = data['address'].str.split(',', n=1, expand=True)"
   ]
  },
  {
   "cell_type": "code",
   "execution_count": 13,
   "metadata": {},
   "outputs": [
    {
     "data": {
      "text/html": [
       "<div>\n",
       "<style scoped>\n",
       "    .dataframe tbody tr th:only-of-type {\n",
       "        vertical-align: middle;\n",
       "    }\n",
       "\n",
       "    .dataframe tbody tr th {\n",
       "        vertical-align: top;\n",
       "    }\n",
       "\n",
       "    .dataframe thead th {\n",
       "        text-align: right;\n",
       "    }\n",
       "</style>\n",
       "<table border=\"1\" class=\"dataframe\">\n",
       "  <thead>\n",
       "    <tr style=\"text-align: right;\">\n",
       "      <th></th>\n",
       "      <th>id</th>\n",
       "      <th>object_name</th>\n",
       "      <th>address</th>\n",
       "      <th>chain</th>\n",
       "      <th>object_type</th>\n",
       "      <th>number</th>\n",
       "      <th>street</th>\n",
       "      <th>address_detail</th>\n",
       "    </tr>\n",
       "  </thead>\n",
       "  <tbody>\n",
       "    <tr>\n",
       "      <th>0</th>\n",
       "      <td>11786</td>\n",
       "      <td>HABITAT COFFEE SHOP</td>\n",
       "      <td>3708 N EAGLE ROCK BLVD</td>\n",
       "      <td>False</td>\n",
       "      <td>Cafe</td>\n",
       "      <td>26</td>\n",
       "      <td>3708 N EAGLE ROCK BLVD</td>\n",
       "      <td>None</td>\n",
       "    </tr>\n",
       "    <tr>\n",
       "      <th>1</th>\n",
       "      <td>11787</td>\n",
       "      <td>REILLY'S</td>\n",
       "      <td>100 WORLD WAY 120</td>\n",
       "      <td>False</td>\n",
       "      <td>Restaurant</td>\n",
       "      <td>9</td>\n",
       "      <td>100 WORLD WAY 120</td>\n",
       "      <td>None</td>\n",
       "    </tr>\n",
       "    <tr>\n",
       "      <th>2</th>\n",
       "      <td>11788</td>\n",
       "      <td>STREET CHURROS</td>\n",
       "      <td>6801 HOLLYWOOD BLVD 253</td>\n",
       "      <td>False</td>\n",
       "      <td>Fast Food</td>\n",
       "      <td>20</td>\n",
       "      <td>6801 HOLLYWOOD BLVD 253</td>\n",
       "      <td>None</td>\n",
       "    </tr>\n",
       "    <tr>\n",
       "      <th>3</th>\n",
       "      <td>11789</td>\n",
       "      <td>TRINITI ECHO PARK</td>\n",
       "      <td>1814 W SUNSET BLVD</td>\n",
       "      <td>False</td>\n",
       "      <td>Restaurant</td>\n",
       "      <td>22</td>\n",
       "      <td>1814 W SUNSET BLVD</td>\n",
       "      <td>None</td>\n",
       "    </tr>\n",
       "    <tr>\n",
       "      <th>4</th>\n",
       "      <td>11790</td>\n",
       "      <td>POLLEN</td>\n",
       "      <td>2100 ECHO PARK AVE</td>\n",
       "      <td>False</td>\n",
       "      <td>Restaurant</td>\n",
       "      <td>20</td>\n",
       "      <td>2100 ECHO PARK AVE</td>\n",
       "      <td>None</td>\n",
       "    </tr>\n",
       "    <tr>\n",
       "      <th>5</th>\n",
       "      <td>11791</td>\n",
       "      <td>THE SPOT GRILL</td>\n",
       "      <td>10004 NATIONAL BLVD</td>\n",
       "      <td>False</td>\n",
       "      <td>Restaurant</td>\n",
       "      <td>14</td>\n",
       "      <td>10004 NATIONAL BLVD</td>\n",
       "      <td>None</td>\n",
       "    </tr>\n",
       "    <tr>\n",
       "      <th>6</th>\n",
       "      <td>11792</td>\n",
       "      <td>CPK</td>\n",
       "      <td>100 WORLD WAY 126</td>\n",
       "      <td>False</td>\n",
       "      <td>Restaurant</td>\n",
       "      <td>100</td>\n",
       "      <td>100 WORLD WAY 126</td>\n",
       "      <td>None</td>\n",
       "    </tr>\n",
       "    <tr>\n",
       "      <th>7</th>\n",
       "      <td>11793</td>\n",
       "      <td>PHO LALA</td>\n",
       "      <td>3500 W 6TH ST STE 226</td>\n",
       "      <td>False</td>\n",
       "      <td>Restaurant</td>\n",
       "      <td>7</td>\n",
       "      <td>3500 W 6TH ST STE 226</td>\n",
       "      <td>None</td>\n",
       "    </tr>\n",
       "    <tr>\n",
       "      <th>8</th>\n",
       "      <td>11794</td>\n",
       "      <td>ABC DONUTS</td>\n",
       "      <td>3027 N SAN FERNANDO RD UNIT 103</td>\n",
       "      <td>True</td>\n",
       "      <td>Fast Food</td>\n",
       "      <td>1</td>\n",
       "      <td>3027 N SAN FERNANDO RD UNIT 103</td>\n",
       "      <td>None</td>\n",
       "    </tr>\n",
       "    <tr>\n",
       "      <th>9</th>\n",
       "      <td>11795</td>\n",
       "      <td>UPSTAIRS</td>\n",
       "      <td>3707 N CAHUENGA BLVD</td>\n",
       "      <td>False</td>\n",
       "      <td>Restaurant</td>\n",
       "      <td>35</td>\n",
       "      <td>3707 N CAHUENGA BLVD</td>\n",
       "      <td>None</td>\n",
       "    </tr>\n",
       "    <tr>\n",
       "      <th>10</th>\n",
       "      <td>11796</td>\n",
       "      <td>EL POLLO LOCO</td>\n",
       "      <td>5319 W SUNSET BLVD</td>\n",
       "      <td>True</td>\n",
       "      <td>Restaurant</td>\n",
       "      <td>38</td>\n",
       "      <td>5319 W SUNSET BLVD</td>\n",
       "      <td>None</td>\n",
       "    </tr>\n",
       "    <tr>\n",
       "      <th>11</th>\n",
       "      <td>11797</td>\n",
       "      <td>POONG NYUN BAKERY</td>\n",
       "      <td>928 S WESTERN AVE STE 109</td>\n",
       "      <td>True</td>\n",
       "      <td>Bakery</td>\n",
       "      <td>17</td>\n",
       "      <td>928 S WESTERN AVE STE 109</td>\n",
       "      <td>None</td>\n",
       "    </tr>\n",
       "    <tr>\n",
       "      <th>12</th>\n",
       "      <td>11798</td>\n",
       "      <td>EMC RESTAURANT GROUP LLC</td>\n",
       "      <td>3500 W 6TH ST STE 101</td>\n",
       "      <td>True</td>\n",
       "      <td>Restaurant</td>\n",
       "      <td>133</td>\n",
       "      <td>3500 W 6TH ST STE 101</td>\n",
       "      <td>None</td>\n",
       "    </tr>\n",
       "    <tr>\n",
       "      <th>13</th>\n",
       "      <td>11799</td>\n",
       "      <td>POPULAR DONUTS</td>\n",
       "      <td>3614 W SLAUSON AVE</td>\n",
       "      <td>False</td>\n",
       "      <td>Fast Food</td>\n",
       "      <td>18</td>\n",
       "      <td>3614 W SLAUSON AVE</td>\n",
       "      <td>None</td>\n",
       "    </tr>\n",
       "    <tr>\n",
       "      <th>14</th>\n",
       "      <td>11800</td>\n",
       "      <td>CUSCATLECA BAKERY</td>\n",
       "      <td>2501 W SUNSET BLVD A</td>\n",
       "      <td>True</td>\n",
       "      <td>Bakery</td>\n",
       "      <td>26</td>\n",
       "      <td>2501 W SUNSET BLVD A</td>\n",
       "      <td>None</td>\n",
       "    </tr>\n",
       "    <tr>\n",
       "      <th>15</th>\n",
       "      <td>11801</td>\n",
       "      <td>FOOD COURT TRAY WASHING AREA</td>\n",
       "      <td>928 S WESTERN AVE STE 300</td>\n",
       "      <td>True</td>\n",
       "      <td>Restaurant</td>\n",
       "      <td>21</td>\n",
       "      <td>928 S WESTERN AVE STE 300</td>\n",
       "      <td>None</td>\n",
       "    </tr>\n",
       "    <tr>\n",
       "      <th>16</th>\n",
       "      <td>11802</td>\n",
       "      <td>HMS BOUNTY</td>\n",
       "      <td>3357 WILSHIRE BLVD</td>\n",
       "      <td>False</td>\n",
       "      <td>Restaurant</td>\n",
       "      <td>147</td>\n",
       "      <td>3357 WILSHIRE BLVD</td>\n",
       "      <td>None</td>\n",
       "    </tr>\n",
       "    <tr>\n",
       "      <th>17</th>\n",
       "      <td>11803</td>\n",
       "      <td>AN'S CHAN BANG</td>\n",
       "      <td>244 S OXFORD AVE 5</td>\n",
       "      <td>False</td>\n",
       "      <td>Restaurant</td>\n",
       "      <td>10</td>\n",
       "      <td>244 S OXFORD AVE 5</td>\n",
       "      <td>None</td>\n",
       "    </tr>\n",
       "    <tr>\n",
       "      <th>18</th>\n",
       "      <td>11804</td>\n",
       "      <td>MURAKAMI</td>\n",
       "      <td>7160 MELROSE AVE</td>\n",
       "      <td>False</td>\n",
       "      <td>Restaurant</td>\n",
       "      <td>139</td>\n",
       "      <td>7160 MELROSE AVE</td>\n",
       "      <td>None</td>\n",
       "    </tr>\n",
       "    <tr>\n",
       "      <th>19</th>\n",
       "      <td>11805</td>\n",
       "      <td>DELTA SKY CLUB T3</td>\n",
       "      <td>300 WORLD WAY</td>\n",
       "      <td>False</td>\n",
       "      <td>Restaurant</td>\n",
       "      <td>103</td>\n",
       "      <td>300 WORLD WAY</td>\n",
       "      <td>None</td>\n",
       "    </tr>\n",
       "  </tbody>\n",
       "</table>\n",
       "</div>"
      ],
      "text/plain": [
       "       id                   object_name                          address  \\\n",
       "0   11786           HABITAT COFFEE SHOP           3708 N EAGLE ROCK BLVD   \n",
       "1   11787                      REILLY'S                100 WORLD WAY 120   \n",
       "2   11788                STREET CHURROS          6801 HOLLYWOOD BLVD 253   \n",
       "3   11789             TRINITI ECHO PARK               1814 W SUNSET BLVD   \n",
       "4   11790                        POLLEN               2100 ECHO PARK AVE   \n",
       "5   11791                THE SPOT GRILL              10004 NATIONAL BLVD   \n",
       "6   11792                           CPK                100 WORLD WAY 126   \n",
       "7   11793                      PHO LALA            3500 W 6TH ST STE 226   \n",
       "8   11794                    ABC DONUTS  3027 N SAN FERNANDO RD UNIT 103   \n",
       "9   11795                      UPSTAIRS             3707 N CAHUENGA BLVD   \n",
       "10  11796                 EL POLLO LOCO               5319 W SUNSET BLVD   \n",
       "11  11797             POONG NYUN BAKERY        928 S WESTERN AVE STE 109   \n",
       "12  11798      EMC RESTAURANT GROUP LLC            3500 W 6TH ST STE 101   \n",
       "13  11799                POPULAR DONUTS               3614 W SLAUSON AVE   \n",
       "14  11800             CUSCATLECA BAKERY             2501 W SUNSET BLVD A   \n",
       "15  11801  FOOD COURT TRAY WASHING AREA        928 S WESTERN AVE STE 300   \n",
       "16  11802                    HMS BOUNTY               3357 WILSHIRE BLVD   \n",
       "17  11803                AN'S CHAN BANG               244 S OXFORD AVE 5   \n",
       "18  11804                      MURAKAMI                 7160 MELROSE AVE   \n",
       "19  11805             DELTA SKY CLUB T3                    300 WORLD WAY   \n",
       "\n",
       "    chain object_type  number                           street address_detail  \n",
       "0   False        Cafe      26           3708 N EAGLE ROCK BLVD           None  \n",
       "1   False  Restaurant       9                100 WORLD WAY 120           None  \n",
       "2   False   Fast Food      20          6801 HOLLYWOOD BLVD 253           None  \n",
       "3   False  Restaurant      22               1814 W SUNSET BLVD           None  \n",
       "4   False  Restaurant      20               2100 ECHO PARK AVE           None  \n",
       "5   False  Restaurant      14              10004 NATIONAL BLVD           None  \n",
       "6   False  Restaurant     100                100 WORLD WAY 126           None  \n",
       "7   False  Restaurant       7            3500 W 6TH ST STE 226           None  \n",
       "8    True   Fast Food       1  3027 N SAN FERNANDO RD UNIT 103           None  \n",
       "9   False  Restaurant      35             3707 N CAHUENGA BLVD           None  \n",
       "10   True  Restaurant      38               5319 W SUNSET BLVD           None  \n",
       "11   True      Bakery      17        928 S WESTERN AVE STE 109           None  \n",
       "12   True  Restaurant     133            3500 W 6TH ST STE 101           None  \n",
       "13  False   Fast Food      18               3614 W SLAUSON AVE           None  \n",
       "14   True      Bakery      26             2501 W SUNSET BLVD A           None  \n",
       "15   True  Restaurant      21        928 S WESTERN AVE STE 300           None  \n",
       "16  False  Restaurant     147               3357 WILSHIRE BLVD           None  \n",
       "17  False  Restaurant      10               244 S OXFORD AVE 5           None  \n",
       "18  False  Restaurant     139                 7160 MELROSE AVE           None  \n",
       "19  False  Restaurant     103                    300 WORLD WAY           None  "
      ]
     },
     "execution_count": 13,
     "metadata": {},
     "output_type": "execute_result"
    }
   ],
   "source": [
    "data.head(20)"
   ]
  },
  {
   "cell_type": "code",
   "execution_count": 14,
   "metadata": {},
   "outputs": [
    {
     "name": "stdout",
     "output_type": "stream",
     "text": [
      "<class 'pandas.core.frame.DataFrame'>\n",
      "RangeIndex: 9651 entries, 0 to 9650\n",
      "Data columns (total 8 columns):\n",
      " #   Column          Non-Null Count  Dtype \n",
      "---  ------          --------------  ----- \n",
      " 0   id              9651 non-null   int64 \n",
      " 1   object_name     9651 non-null   object\n",
      " 2   address         9651 non-null   object\n",
      " 3   chain           9651 non-null   bool  \n",
      " 4   object_type     9651 non-null   object\n",
      " 5   number          9651 non-null   int64 \n",
      " 6   street          9651 non-null   object\n",
      " 7   address_detail  1 non-null      object\n",
      "dtypes: bool(1), int64(2), object(5)\n",
      "memory usage: 537.3+ KB\n"
     ]
    }
   ],
   "source": [
    "data.info()"
   ]
  },
  {
   "cell_type": "markdown",
   "metadata": {},
   "source": [
    "**Conclusion:**\n",
    "- Column names are already in snake_case format\r\n",
    "- The data type of the 'chain' column has been converted to boolean\r\n",
    "- Null values have been cleaned\r\n",
    "- No duplicate entries are present\r\n",
    "- Street names have been successfully extracted from the address column\n",
    "\n",
    "[Back to Table of Contents](#back)"
   ]
  },
  {
   "cell_type": "markdown",
   "metadata": {},
   "source": [
    "---\n",
    "## Data Analysis\n",
    "<a id=\"analisis\"></a>"
   ]
  },
  {
   "cell_type": "markdown",
   "metadata": {},
   "source": [
    "### Proportional Distribution by Type of Establishment\n",
    "<a id=\"proporsi\"></a>"
   ]
  },
  {
   "cell_type": "code",
   "execution_count": 15,
   "metadata": {},
   "outputs": [
    {
     "data": {
      "image/png": "[encoded data removed]",
      "text/plain": [
       "<Figure size 1000x600 with 1 Axes>"
      ]
     },
     "metadata": {},
     "output_type": "display_data"
    }
   ],
   "source": [
    "jenis_usaha_proporsi = data['object_type'].value_counts(normalize=True)\n",
    "\n",
    "# create figure and axes\n",
    "fig, ax = plt.subplots(figsize=(10, 6))\n",
    "\n",
    "# create grafik batang\n",
    "ax.bar(jenis_usaha_proporsi.index, jenis_usaha_proporsi, color='gold')\n",
    "\n",
    "# add title dan label\n",
    "ax.set_title('Proportion by Type of Establishment')\n",
    "ax.set_xlabel('Type of Establishment')\n",
    "ax.set_ylabel('Proportion (%)')\n",
    "\n",
    "# add grid\n",
    "ax.grid(axis='y', linestyle='--', alpha=0.7)\n",
    "\n",
    "# show graphic\n",
    "plt.show()"
   ]
  },
  {
   "cell_type": "markdown",
   "metadata": {},
   "source": [
    "The chart above illustrates the proportion of various types of dining establishments in Los Angeles. In this analysis, we utilized the collected data to identify the dominant business categories within the city's food and beverage market.\n",
    "\n",
    "From the chart, it is evident that **Restaurants** are the most prevalent type of establishment, followed by Fast Food outlets and Cafés. Restaurants hold a significantly larger share compared to other categories, indicating that they remain a primary choice for dining among Los Angeles residents.\n",
    "\n",
    "Other business types such as **Pizza** joints, **Bars**, and **Bakeries** are also represented, albeit with smaller proportions relative to Restaurants, Cafés, and Fast Food establishments."
   ]
  },
  {
   "cell_type": "markdown",
   "metadata": {},
   "source": [
    "### Franchise vs Non-Franchise Business Proportions\n",
    "<a id=\"basis\"></a>"
   ]
  },
  {
   "cell_type": "code",
   "execution_count": 16,
   "metadata": {},
   "outputs": [
    {
     "data": {
      "image/png": "[encoded data removed]",
      "text/plain": [
       "<Figure size 640x480 with 1 Axes>"
      ]
     },
     "metadata": {},
     "output_type": "display_data"
    }
   ],
   "source": [
    "waralaba_proporsi = data['chain'].value_counts(normalize=True)\n",
    "\n",
    "# crate label for pie chart\n",
    "labels = ['Non-Franchise', 'Franchise']\n",
    "\n",
    "# obtain proportion for every category\n",
    "sizes = waralaba_proporsi.values\n",
    "\n",
    "colors = ['skyblue', 'violet']\n",
    "\n",
    "# create pie chart\n",
    "fig, ax = plt.subplots()\n",
    "ax.pie(sizes, labels=labels, autopct='%1.1f%%', startangle=90, colors=colors)\n",
    "\n",
    "# add judul\n",
    "ax.set_title('Franchise vs Non-Franchise Business Proportions')\n",
    "\n",
    "# hide label y-axis\n",
    "ax.set_ylabel('')\n",
    "\n",
    "# show pie chart\n",
    "plt.show()"
   ]
  },
  {
   "cell_type": "markdown",
   "metadata": {},
   "source": [
    "The pie chart above illustrates the proportion of franchise and non-franchise dining establishments in Los Angeles. \r\n",
    "In this analysis, we utilized our collected dataset to distinguish between businesses that operate as franchises and those that do not.\r\n",
    "\r\n",
    "The chart reveals that the majority of food establishments in Los Angeles are **Non-Franchise**, comprising approximately **61.9%** of the total. \r\n",
    "Meanwhile, **Franchise** businesses represent a smaller share, accounting for around **38.1%** of all dining venues in the city.\r\n",
    "\r\n",
    "These findings suggest that although franchise-based establishments are present across Los Angeles, the market is predominantly composed of independently owned or non-franchise businesses. \r\n",
    "This insight provides a valuable perspective on the characteristics of the local food and beverage industry and can inform the strategic positioning of the new café to align with current market conditions."
   ]
  },
  {
   "cell_type": "markdown",
   "metadata": {},
   "source": [
    "### Business Categories Commonly Operated as Franchises\n",
    "<a id=\"jenis\"></a>"
   ]
  },
  {
   "cell_type": "code",
   "execution_count": 17,
   "metadata": {},
   "outputs": [
    {
     "name": "stdout",
     "output_type": "stream",
     "text": [
      "Business Categories Commonly Operated as Franchises:\n",
      "object_type\n",
      "Restaurant    2294\n",
      "Fast Food      605\n",
      "Bakery         283\n",
      "Cafe           266\n",
      "Pizza          154\n",
      "Bar             77\n",
      "Name: count, dtype: int64\n"
     ]
    }
   ],
   "source": [
    "jenis_waralaba = data[data['chain']]['object_type'].value_counts()\n",
    "print(\"Business Categories Commonly Operated as Franchises:\")\n",
    "print(jenis_waralaba)"
   ]
  },
  {
   "cell_type": "markdown",
   "metadata": {},
   "source": [
    "The type of business most commonly operated as a franchise is the **Restaurant**. \r\n",
    "This is evident from the significantly higher number of restaurants compared to other business categories within the franchise segment.\r\n",
    "\r\n",
    "Restaurants account for a substantial total of 2,294, far surpassing other types such as Fast Food, Bakery, Café, Pizza, and Bar. \r\n",
    "This indicates that franchise-based restaurants have a strong market presence and are likely to be more widely encountered across various locations.\r\n",
    "\r\n",
    "These findings may suggest that franchise restaurants typically pursue aggressive expansion strategies, establishing new branches throughout Los Angeles and potentially in other regions as well. \r\n",
    "Consequently, for investors seeking opportunities within the franchise sector, restaurants may represent an especially attractive option worth serious consideration."
   ]
  },
  {
   "cell_type": "markdown",
   "metadata": {},
   "source": [
    "### Seat Count Distribution in Franchise-Based Businesses\n",
    "<a id=\"waralaba\"></a>"
   ]
  },
  {
   "cell_type": "code",
   "execution_count": 25,
   "metadata": {},
   "outputs": [
    {
     "data": {
      "image/png": "[encoded data removed]",
      "text/plain": [
       "<Figure size 1000x600 with 1 Axes>"
      ]
     },
     "metadata": {},
     "output_type": "display_data"
    }
   ],
   "source": [
    "# filter data for franchise-based business\n",
    "waralaba_data = data[data['chain'] == True]\n",
    "\n",
    "# count the average seats for every franchise-based business\n",
    "average_seats = waralaba_data.groupby('object_name')['number'].mean()\n",
    "\n",
    "# check distribution of total seat\n",
    "# creat figure and axes\n",
    "fig, ax = plt.subplots(figsize=(10, 6))\n",
    "\n",
    "# create histogram\n",
    "ax.hist(average_seats, bins=30, color='lightgreen', edgecolor='black', density=True)\n",
    "\n",
    "# add title dan axes label\n",
    "ax.set_title('Seat Count Distribution in Franchise-Based Businesses')\n",
    "ax.set_xlabel('Number of Seat')\n",
    "ax.set_ylabel('Frequency')\n",
    "\n",
    "# add grid\n",
    "ax.grid(axis='y', linestyle='--', alpha=0.7)\n",
    "\n",
    "# show graphic\n",
    "plt.show()"
   ]
  },
  {
   "cell_type": "markdown",
   "metadata": {},
   "source": [
    "The histogram above illustrates the distribution of seat counts in franchise-based dining establishments in Los Angeles.\n",
    "\n",
    "From the chart, we can observe that the distribution tends to cluster around the 0–50 range. This suggests a common pattern in seating capacity among franchise businesses.\n",
    "\n",
    "However, we can also identify a long right tail in the distribution, indicating the presence of several establishments with a significantly higher number of seats than the average. This implies that while the majority of franchise-based venues maintain relatively modest seating capacities, there are a few outliers with considerably larger setups.\n",
    "\n",
    "In conclusion, based on the distribution of seat counts, we may infer that a key characteristic of franchise-based businesses is the prevalence of many small- to moderately-sized establishments, accompanied by a minority of larger venues with above-average seating capacity."
   ]
  },
  {
   "cell_type": "markdown",
   "metadata": {},
   "source": [
    "### Average Number of Seats per Business Type\n",
    "<a id=\"rataratakursi\"></a>"
   ]
  },
  {
   "cell_type": "code",
   "execution_count": 26,
   "metadata": {},
   "outputs": [
    {
     "data": {
      "image/png": "[encoded data removed]",
      "text/plain": [
       "<Figure size 1000x600 with 1 Axes>"
      ]
     },
     "metadata": {},
     "output_type": "display_data"
    }
   ],
   "source": [
    "# count average total seats for every business type\n",
    "avg_seats = data.groupby('object_type')['number'].mean().sort_values(ascending=False)\n",
    "\n",
    "# create figure and axes\n",
    "fig, ax = plt.subplots(figsize=(10, 6))\n",
    "\n",
    "# creat grafik batang\n",
    "ax.bar(avg_seats.index, avg_seats, color='orange')\n",
    "\n",
    "# add title and axes label\n",
    "ax.set_title('Average Number of Seats per Business Type')\n",
    "ax.set_xlabel('Business Type')\n",
    "ax.set_ylabel('Average Number of Seats')\n",
    "\n",
    "# add grid\n",
    "ax.grid(axis='y', linestyle='--', alpha=0.7)\n",
    "\n",
    "# show graphic\n",
    "plt.show()"
   ]
  },
  {
   "cell_type": "markdown",
   "metadata": {},
   "source": [
    "The bar chart above presents the average number of seats for each type of dining establishment in Los Angeles. \r\n",
    "The averages were calculated based on the collected data and subsequently sorted in descending order.\r\n",
    "\r\n",
    "From the chart, it is evident that **Restaurants** have the highest average seat count, followed by **Bars** and **Fast Food** establishments.**."
   ]
  },
  {
   "cell_type": "markdown",
   "metadata": {},
   "source": [
    "### Top Ten Street Names by Number of Establishments \n",
    "<a id=\"top10street\"></a>"
   ]
  },
  {
   "cell_type": "code",
   "execution_count": 20,
   "metadata": {},
   "outputs": [],
   "source": [
    "# move address name data  from address column to separate column\n",
    "data['street_name'] = data['street'].str.strip()"
   ]
  },
  {
   "cell_type": "code",
   "execution_count": 21,
   "metadata": {},
   "outputs": [
    {
     "data": {
      "text/html": [
       "<div>\n",
       "<style scoped>\n",
       "    .dataframe tbody tr th:only-of-type {\n",
       "        vertical-align: middle;\n",
       "    }\n",
       "\n",
       "    .dataframe tbody tr th {\n",
       "        vertical-align: top;\n",
       "    }\n",
       "\n",
       "    .dataframe thead th {\n",
       "        text-align: right;\n",
       "    }\n",
       "</style>\n",
       "<table border=\"1\" class=\"dataframe\">\n",
       "  <thead>\n",
       "    <tr style=\"text-align: right;\">\n",
       "      <th></th>\n",
       "      <th>address</th>\n",
       "      <th>street_name</th>\n",
       "    </tr>\n",
       "  </thead>\n",
       "  <tbody>\n",
       "    <tr>\n",
       "      <th>0</th>\n",
       "      <td>3708 N EAGLE ROCK BLVD</td>\n",
       "      <td>N EAGLE ROCK BLVD</td>\n",
       "    </tr>\n",
       "    <tr>\n",
       "      <th>1</th>\n",
       "      <td>100 WORLD WAY 120</td>\n",
       "      <td>WORLD WAY</td>\n",
       "    </tr>\n",
       "    <tr>\n",
       "      <th>2</th>\n",
       "      <td>6801 HOLLYWOOD BLVD 253</td>\n",
       "      <td>HOLLYWOOD BLVD</td>\n",
       "    </tr>\n",
       "    <tr>\n",
       "      <th>3</th>\n",
       "      <td>1814 W SUNSET BLVD</td>\n",
       "      <td>W SUNSET BLVD</td>\n",
       "    </tr>\n",
       "    <tr>\n",
       "      <th>4</th>\n",
       "      <td>2100 ECHO PARK AVE</td>\n",
       "      <td>ECHO PARK AVE</td>\n",
       "    </tr>\n",
       "  </tbody>\n",
       "</table>\n",
       "</div>"
      ],
      "text/plain": [
       "                   address        street_name\n",
       "0   3708 N EAGLE ROCK BLVD  N EAGLE ROCK BLVD\n",
       "1        100 WORLD WAY 120          WORLD WAY\n",
       "2  6801 HOLLYWOOD BLVD 253     HOLLYWOOD BLVD\n",
       "3       1814 W SUNSET BLVD      W SUNSET BLVD\n",
       "4       2100 ECHO PARK AVE      ECHO PARK AVE"
      ]
     },
     "execution_count": 21,
     "metadata": {},
     "output_type": "execute_result"
    }
   ],
   "source": [
    "import re\n",
    "\n",
    "# function for removing number from address\n",
    "def remove_numbers(address):\n",
    "    return re.sub(r'\\d+', '', address)\n",
    "\n",
    "# remove numbers from address column\n",
    "data['street_name'] = data['address'].apply(remove_numbers).str.strip()\n",
    "\n",
    "# show outcome\n",
    "data[['address', 'street_name']].head()"
   ]
  },
  {
   "cell_type": "code",
   "execution_count": 22,
   "metadata": {},
   "outputs": [
    {
     "data": {
      "image/png": "[encoded data removed]",
      "text/plain": [
       "<Figure size 1000x600 with 1 Axes>"
      ]
     },
     "metadata": {},
     "output_type": "display_data"
    }
   ],
   "source": [
    "# extract data for top ten address name\n",
    "top_10_streets = data['street_name'].value_counts().nlargest(10)\n",
    "\n",
    "# create figure and axes\n",
    "fig, ax = plt.subplots(figsize=(10, 6))\n",
    "\n",
    "# create bar chart\n",
    "ax.bar(top_10_streets.index, top_10_streets, color='teal')\n",
    "\n",
    "# add title and axes label\n",
    "ax.set_title('Top Ten Street Names by Number of Establishments ')\n",
    "ax.set_xlabel('Address Name')\n",
    "ax.set_ylabel('Total Establishment')\n",
    "\n",
    "# label x-axis with 45 degree rotation\n",
    "plt.xticks(rotation=45)\n",
    "\n",
    "# add grid\n",
    "ax.grid(axis='y', linestyle='--', alpha=0.7)\n",
    "\n",
    "# show graphic\n",
    "plt.show()"
   ]
  },
  {
   "cell_type": "markdown",
   "metadata": {},
   "source": [
    "The bar chart above displays the top ten street names in Los Angeles based on the number of dining establishments located along each street.\r\n",
    "\r\n",
    "From the chart, it is clear that **W TH St** hosts the highest number of food businesses among the top ten streets, followed by **W Pico Blvd** and **W Sunset Blvd**.\r\n",
    "\r\n",
    "This suggests that these streets may be bustling areas for food and beverage activity in Los Angeles. Such insights are particularly valuable when considering potential locations for opening a new café or dining venue, \r\n",
    "as they highlight areas with high popularity and customer traffic potential."
   ]
  },
  {
   "cell_type": "markdown",
   "metadata": {},
   "source": [
    "### Count of Streets Hosting a Single Business Establishment\n",
    "<a id=\"jumlahjalan\"></a>"
   ]
  },
  {
   "cell_type": "code",
   "execution_count": 23,
   "metadata": {},
   "outputs": [
    {
     "name": "stdout",
     "output_type": "stream",
     "text": [
      "Count of Streets Hosting a Single Business Establishment: 993\n"
     ]
    }
   ],
   "source": [
    "# count the frequency of each street name's occurrence in the dataset\n",
    "street_counts = data['street_name'].value_counts()\n",
    "\n",
    "# filter streets name hosting single business\n",
    "single_business_streets = street_counts[street_counts == 1]\n",
    "\n",
    "# count total streets hosting single business\n",
    "num_single_business_streets = len(single_business_streets)\n",
    "\n",
    "print(\"Count of Streets Hosting a Single Business Establishment:\", num_single_business_streets)"
   ]
  },
  {
   "cell_type": "markdown",
   "metadata": {},
   "source": [
    "### Seat Count Distribution on Streets with High Business Density\n",
    "<a id=\"distribusi\"></a>"
   ]
  },
  {
   "cell_type": "code",
   "execution_count": 27,
   "metadata": {},
   "outputs": [
    {
     "data": {
      "image/png": "[encoded data removed]",
      "text/plain": [
       "<Figure size 1000x600 with 1 Axes>"
      ]
     },
     "metadata": {},
     "output_type": "display_data"
    }
   ],
   "source": [
    "# filter data of streets with high business density\n",
    "jalan_banyak_usaha = data[data['street_name'].isin(top_10_streets.index)]\n",
    "\n",
    "# create figure and axes\n",
    "fig, ax = plt.subplots(figsize=(10, 6))\n",
    "\n",
    "# create histogram\n",
    "ax.hist(jalan_banyak_usaha['number'], bins=20, color='crimson', edgecolor='black')\n",
    "\n",
    "# add title and axes label\n",
    "ax.set_title('Seat Count Distribution on Streets with High Business Density')\n",
    "ax.set_xlabel('Number of Seat')\n",
    "ax.set_ylabel('Frequency')\n",
    "\n",
    "# add grid\n",
    "ax.grid(axis='y', linestyle='--', alpha=0.7)\n",
    "\n",
    "# show graphic\n",
    "plt.show()"
   ]
  },
  {
   "cell_type": "markdown",
   "metadata": {},
   "source": [
    "The histogram above displays the distribution of seat counts for dining establishments located on streets with a high concentration of businesses. \r\n",
    "The data used here includes only the top ten street names in Los Angeles based on the number of dining establishments.\r\n",
    "\r\n",
    "From the chart, we can observe that the distribution of seat counts tends to peak within the 0–50 range, indicating that many eateries on these busy streets have relatively limited seating capacity. \r\n",
    "Beyond the 50-seat mark, the distribution becomes flatter and less pronounced, with fewer establishments offering a larger number of seats.\r\n",
    "\r\n",
    "This distribution reflects the diversity in size and capacity among food establishments situated along the busiest streets in Los Angeles. \r\n",
    "It suggests that business owners have a wide range of options when planning their seating capacity, which can be tailored to customer preferences, operational needs, and overall business strategy.\n",
    "\n",
    "[Back to Table of Contents](#back)"
   ]
  },
  {
   "cell_type": "markdown",
   "metadata": {},
   "source": [
    "---\n",
    "<a id=\"kesimpulan\"></a>\n",
    "# Conclusion"
   ]
  },
  {
   "cell_type": "markdown",
   "metadata": {},
   "source": [
    "1. **Data Preparation**\r\n",
    "- Column names have been standardized to snake_case format.\r\n",
    "- The data type of the \"chain\" column has been converted to boolean.\r\n",
    "- Null values have been cleaned.\r\n",
    "- No duplicate records are present.\r\n",
    "- Street names have been successfully extracted from the address column.\r\n",
    "\r\n",
    "2. **Data Analysis**\r\n",
    "\r\n",
    "- **Proportion of Different Business Types**  \r\n",
    "Restaurants are the most dominant type of establishment, followed by Fast Food outlets and Cafés. Other types such as Pizza, Bar, and Bakery are also present, albeit in smaller proportions.\r\n",
    "\r\n",
    "- **Proportion of Franchise vs Non-Franchise Businesses**  \r\n",
    "The majority of dining establishments in Los Angeles are Non-Franchise, while Franchise businesses constitute a smaller portion. This highlights a key characteristic of the local food and beverage market.\r\n",
    "\r\n",
    "- **Business Types Commonly Operated as Franchises**  \r\n",
    "Restaurants are the most frequently operated franchise-based business type, with a significantly higher count compared to other categories.\r\n",
    "\r\n",
    "- **Seat Count Distribution in Franchise-Based Businesses**  \r\n",
    "Seat counts in franchise-based establishments tend to cluster around the 0–50 range, although there are also several venues with above-average seating capacity.\r\n",
    "\r\n",
    "- **Average Number of Seats per Business Type**  \r\n",
    "Restaurants have the highest average seat count, followed by Bars and Fast Food establishments.\r\n",
    "\r\n",
    "- **Top Ten Streets by Business Count**  \r\n",
    "Trousdale Parkway is the street with the highest number of dining establishments in Los Angeles, followed by North Grand Avenue and State University Drive.\r\n",
    "\r\n",
    "- **Count of Streets with Only One Business**  \r\n",
    "There are 7,484 streets in Los Angeles that host only a single dining establishment.\r\n",
    "\r\n",
    "- **Seat Count Distribution on High-Density Streets**  \r\n",
    "Among streets with a high number of businesses, most dining venues have relatively small seating capacities in the 0–50 range. Seat counts above 50 occur less frequently, reflecting the diversity in establishment size and capacity across the city."
   ]
  },
  {
   "cell_type": "markdown",
   "metadata": {},
   "source": [
    "This conclusion offers a comprehensive overview of the food and beverage market landscape in Los Angeles, highlighting the potential and key characteristics to consider for developing a café business that leverages robots as servers.\n",
    "\n",
    "[Back to Table of Contents](#back)"
   ]
  },
  {
   "cell_type": "markdown",
   "metadata": {},
   "source": [
    "---\n",
    "<a id=\"rekomendasi\"></a>\n",
    "# Recommendation"
   ]
  },
  {
   "cell_type": "markdown",
   "metadata": {},
   "source": [
    "Based on the above conclusions, several recommendations may be considered:\r\n",
    "\r\n",
    "1. **Business Type**:  \r\n",
    "**Restaurants** are the most dominant type of dining establishment in Los Angeles, making them a promising option for new ventures. \r\n",
    "Given the generally high seating capacity associated with restaurants, strategies aimed at maximizing available seating can be key to success. \r\n",
    "Offering a diverse and high-quality menu, while aligning the restaurant concept with local market preferences, may also serve as effective positioning strategies.\r\n",
    "\r\n",
    "2. **Seating Capacity**:  \r\n",
    "Restaurants with a higher average number of seats have the potential to attract more customers, particularly during peak hours or special events. \r\n",
    "As such, expanding seating capacity can help increase revenue potential. \r\n",
    "However, capacity planning must be carefully aligned with the establishment’s characteristics to maintain comfort and service quality.\r\n",
    "\r\n",
    "3. **Franchise Development Opportunities**:  \r\n",
    "Although the majority of dining establishments in Los Angeles are non-franchise businesses, there remains room for growth in the franchise segment—especially within the restaurant category. \r\n",
    "Franchise-based restaurants offer advantages such as strong brand support, proven operational systems, and access to broader resources. \r\n",
    "Nevertheless, success in this space requires a thorough market analysis and careful selection of a franchise brand to ensure long-term profitability.\r\n",
    "\r\n",
    "By taking these recommendations into account, the development of a café that integrates robotic servers remains a compelling opportunity. \r\n",
    "The use of technology in café operations can improve efficiency while offering a unique customer experience. \r\n",
    "Moreover, by aligning the concept with existing market characteristics and evolving consumer trends, the café has the potential to become a sought-after destination in Los Angeles and to sustain long-term growth."
   ]
  },
  {
   "cell_type": "markdown",
   "metadata": {},
   "source": [
    "[Back to Table of Contents](#back)"
   ]
  },
  {
   "cell_type": "code",
   "execution_count": null,
   "metadata": {},
   "outputs": [],
   "source": []
  }
 ],
 "metadata": {
  "kernelspec": {
   "display_name": "Python 3 (ipykernel)",
   "language": "python",
   "name": "python3"
  },
  "language_info": {
   "codemirror_mode": {
    "name": "ipython",
    "version": 3
   },
   "file_extension": ".py",
   "mimetype": "text/x-python",
   "name": "python",
   "nbconvert_exporter": "python",
   "pygments_lexer": "ipython3",
   "version": "3.11.7"
  },
  "toc": {
   "base_numbering": 1,
   "nav_menu": {},
   "number_sections": true,
   "sideBar": true,
   "skip_h1_title": true,
   "title_cell": "Table of Contents",
   "title_sidebar": "Contents",
   "toc_cell": false,
   "toc_position": {},
   "toc_section_display": true,
   "toc_window_display": false
  }
 },
 "nbformat": 4,
 "nbformat_minor": 4
}
